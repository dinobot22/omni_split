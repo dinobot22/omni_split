{
 "cells": [
  {
   "cell_type": "code",
   "execution_count": 5,
   "metadata": {},
   "outputs": [],
   "source": [
    "text=\"![](images/67ad688e828a3d8fc26310a9fb17bb37da7a5c55fab921e79d1b36b3f0511cfc.jpg)Figure 2: An illustration of workflow design for simultaneous game. (a) Illustration of prisoner's dilemma. (b) Workflow design for prisoner's dilemma..\""
   ]
  },
  {
   "cell_type": "code",
   "execution_count": 6,
   "metadata": {},
   "outputs": [
    {
     "data": {
      "text/plain": [
       "['![](images/67ad688e828a3d8fc26310a9fb17bb37da7a5c55fab921e79d1b36b3f0511cfc.jpg)',\n",
       " \"Figure 2: An illustration of workflow design for simultaneous game. (a) Illustration of prisoner's dilemma. (b) Workflow design for prisoner's dilemma..\"]"
      ]
     },
     "execution_count": 6,
     "metadata": {},
     "output_type": "execute_result"
    }
   ],
   "source": [
    "import re\n",
    "\n",
    "# text = '\"![](img1.jpg)Text1![](img2.jpg)Text2![](img3.jpg)Text3\"'\n",
    "\n",
    "# # 用正则分割，保留分割项\n",
    "# parts = re.split(r'(!\\[\\]\\([^)]+\\))', text.strip('\"'))\n",
    "\n",
    "# # 移除空字符串（由于 split 可能产生空项）\n",
    "# parts = [p for p in parts if p]\n",
    "\n",
    "# print(parts)\n",
    "\n",
    "\n",
    "def split_image_url_func(text):\n",
    "    parts = re.split(r\"(!\\[\\]\\([^)]+\\))\", text.strip('\"'))\n",
    "    parts = [p for p in parts if p]\n",
    "    ret_parts = []\n",
    "    for item in parts:\n",
    "        if item != \"\":\n",
    "            ret_parts.append(item)\n",
    "    return ret_parts\n",
    "\n",
    "\n",
    "split_image_url_func(text)"
   ]
  },
  {
   "cell_type": "code",
   "execution_count": null,
   "metadata": {},
   "outputs": [],
   "source": []
  }
 ],
 "metadata": {
  "kernelspec": {
   "display_name": "pollux_env",
   "language": "python",
   "name": "python3"
  },
  "language_info": {
   "codemirror_mode": {
    "name": "ipython",
    "version": 3
   },
   "file_extension": ".py",
   "mimetype": "text/x-python",
   "name": "python",
   "nbconvert_exporter": "python",
   "pygments_lexer": "ipython3",
   "version": "3.10.0"
  }
 },
 "nbformat": 4,
 "nbformat_minor": 2
}
